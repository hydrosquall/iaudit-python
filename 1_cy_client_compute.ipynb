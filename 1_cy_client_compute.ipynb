{
 "cells": [
  {
   "cell_type": "code",
   "execution_count": 1,
   "metadata": {
    "collapsed": false
   },
   "outputs": [
    {
     "data": {
      "text/markdown": [
       "# iAudit INDaaS (Independence as a Service)\n",
       "## Private, Independent Audits of Alternative Inter-Cloud Replication Deployments \n",
       "\n",
       "Customers of modern cloud services deploy replicas of their applications \n",
       "in order to improve reliability and performance. These replicas may be spread \n",
       "across multiple providers, such as Amazon AWS and Microsoft Azure.\n",
       "\n",
       "Shared vulnerabilities (both hardware and software) of providers can lead to \n",
       "cascading failures, since the benefits of redundancy are lost. Despite this risk \n",
       "to consumers, cloud providers are reluctant to share vulnerability information \n",
       "with other providers. How can we let consumers achieve sufficient redundancy \n",
       "in their application deployments, while also recognizing the business concerns\n",
       "of cloud providers?\n",
       "\n",
       "Introducing  **iAudit**. \n",
       "\n",
       "**iAudit** is a system for computing the weighted shared dependency score\n",
       "between multiple cloud providers, which does not require any of the providers\n",
       "to disclose their vulnerabilities to the customer or competing providers. Lower\n",
       "score indicates higher independence. Higher independence scores indicate deployment schemes with higher  application reliability.\n",
       "\n",
       "There are two components to the system. This repository contains Python\n",
       "code for the second, with influence from the [Java](https://github.com/ennanzhai/auditor) implementation.\n",
       "\n",
       "1. Generation of provider dependency graphs\n",
       "2. Compute dependency scores using a Weighted Private Set Intersection Cardinality Protocol.\n",
       "\n",
       "Part of a senior project at Yale University.\n",
       "\n",
       "### iAudit Team\n",
       "- Project Lead: [Ennan Zhai, PhD](http://www.cs.yale.edu/homes/zhai-ennan/)\n",
       "- Advisor: [Profesor Avi Silberschatz](http://codex.cs.yale.edu/avi/)\n",
       "- Students: William Dower, [Cameron Yick](www.cameronyick.us)\n"
      ],
      "text/plain": [
       "<IPython.core.display.Markdown object>"
      ]
     },
     "metadata": {},
     "output_type": "display_data"
    }
   ],
   "source": [
    "# Mirror Project Readdme\n",
    "from IPython.display import display, Markdown\n",
    "with open('README.md', 'r') as f:\n",
    "    content = f.read()\n",
    "display(Markdown(content))"
   ]
  },
  {
   "cell_type": "markdown",
   "metadata": {},
   "source": [
    "### Single Node Example\n",
    "\n",
    "Show that protocol works when doing ring pass on a single computer\n"
   ]
  },
  {
   "cell_type": "code",
   "execution_count": 2,
   "metadata": {
    "collapsed": true
   },
   "outputs": [],
   "source": [
    "# Dummy data\n",
    "\n",
    "# A cutset is a list of vulernabilities that would break the application on a given node.\n",
    "# A node can have multiple cutsets.\n",
    "# Each cutset has a weight, indicating its significance. Higher score = more significance.\n",
    "# In these cells, we setup\n",
    "cutsets = {}\n",
    "\n",
    "cutsets['A'] = \\\n",
    "\"\"\"\n",
    "<cutsets>\n",
    "    <cutset items=\"DNS1\" weight=\"10\"/>\n",
    "    <cutset items=\"Agg1, Agg2\" weight=\"6\"/>\n",
    "</cutsets>\n",
    "\"\"\"\n",
    "\n",
    "cutsets['B'] = \\\n",
    "\"\"\"\n",
    "<cutset>\n",
    "    <cutset items=\"DNS1\" weight=\"10\"/>\n",
    "    <cutset items=\"Agg3\" weight=\"6\"/>\n",
    "    <cutset items=\"DNS2\" weight=\"4\"/>\n",
    "</cutsets>\n",
    "\"\"\""
   ]
  },
  {
   "cell_type": "code",
   "execution_count": 3,
   "metadata": {
    "collapsed": false
   },
   "outputs": [
    {
     "ename": "SyntaxError",
     "evalue": "invalid syntax (__init__.py, line 9)",
     "output_type": "error",
     "traceback": [
      "\u001b[0;36m  File \u001b[0;32m\"iaudit\\__init__.py\"\u001b[0;36m, line \u001b[0;32m9\u001b[0m\n\u001b[0;31m    import .network\u001b[0m\n\u001b[0m           ^\u001b[0m\n\u001b[0;31mSyntaxError\u001b[0m\u001b[0;31m:\u001b[0m invalid syntax\n"
     ]
    }
   ],
   "source": [
    "import iaudit"
   ]
  },
  {
   "cell_type": "code",
   "execution_count": null,
   "metadata": {
    "collapsed": true
   },
   "outputs": [],
   "source": [
    "iaudit.network.hostname()"
   ]
  },
  {
   "cell_type": "code",
   "execution_count": null,
   "metadata": {
    "collapsed": false
   },
   "outputs": [],
   "source": [
    "cutsets = iaudit.string_to_cutsets(cutsets['A'])\n"
   ]
  },
  {
   "cell_type": "code",
   "execution_count": null,
   "metadata": {
    "collapsed": false
   },
   "outputs": [],
   "source": [
    "for c in cutsets:\n",
    "    print c"
   ]
  },
  {
   "cell_type": "code",
   "execution_count": null,
   "metadata": {
    "collapsed": false
   },
   "outputs": [],
   "source": [
    "cutsets[0]"
   ]
  },
  {
   "cell_type": "code",
   "execution_count": null,
   "metadata": {
    "collapsed": false
   },
   "outputs": [],
   "source": [
    "\n",
    "\n",
    "# Works for \n",
    "iaudit.hostname()\n",
    "\n"
   ]
  },
  {
   "cell_type": "markdown",
   "metadata": {},
   "source": [
    "### Multi Node Example\n",
    "\n",
    "Extending program to work when managing communication between multiple computers\n"
   ]
  }
 ],
 "metadata": {
  "anaconda-cloud": {},
  "kernelspec": {
   "display_name": "Python [default]",
   "language": "python",
   "name": "python2"
  },
  "language_info": {
   "codemirror_mode": {
    "name": "ipython",
    "version": 2
   },
   "file_extension": ".py",
   "mimetype": "text/x-python",
   "name": "python",
   "nbconvert_exporter": "python",
   "pygments_lexer": "ipython2",
   "version": "2.7.12"
  }
 },
 "nbformat": 4,
 "nbformat_minor": 1
}

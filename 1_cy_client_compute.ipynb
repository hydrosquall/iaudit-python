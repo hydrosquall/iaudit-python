{
 "cells": [
  {
   "cell_type": "code",
   "execution_count": 1,
   "metadata": {
    "collapsed": false
   },
   "outputs": [
    {
     "data": {
      "text/markdown": [
       "# iAudit INDaaS (Independence as a Service)\n",
       "## Private, Independent Audits of Alternative Inter-Cloud Replication Deployments \n",
       "\n",
       "Customers of modern cloud services deploy replicas of their applications \n",
       "in order to improve reliability and performance. These replicas may be spread \n",
       "across multiple providers, such as Amazon AWS and Microsoft Azure.\n",
       "\n",
       "Shared vulnerabilities (both hardware and software) of providers can lead to \n",
       "cascading failures, since the benefits of redundancy are lost. Despite this risk \n",
       "to consumers, cloud providers are reluctant to share vulnerability information \n",
       "with other providers. How can we let consumers achieve sufficient redundancy \n",
       "in their application deployments, while also recognizing the business concerns\n",
       "of cloud providers?\n",
       "\n",
       "Introducing  **iAudit**. \n",
       "\n",
       "**iAudit** is a system for computing the weighted shared dependency score\n",
       "between multiple cloud providers, which does not require any of the providers\n",
       "to disclose their vulnerabilities to the customer or competing providers. Lower\n",
       "score indicates higher independence. Higher independence scores indicate deployment schemes with higher  application reliability.\n",
       "\n",
       "There are two components to the system. This repository contains Python\n",
       "code for the second, with influence from the [Java](https://github.com/ennanzhai/auditor) implementation.\n",
       "\n",
       "1. Generation of provider dependency graphs\n",
       "2. Compute dependency scores using a Weighted Private Set Intersection Cardinality Protocol (Vaidya and Clifton)\n",
       "\n",
       "Part of a senior project at Yale University.\n",
       "\n",
       "### iAudit Team\n",
       "- Project Lead: [Ennan Zhai, PhD](http://www.cs.yale.edu/homes/zhai-ennan/)\n",
       "- Advisor: [Profesor Avi Silberschatz](http://codex.cs.yale.edu/avi/)\n",
       "- Students: William Dower, [Cameron Yick](www.cameronyick.us)\n"
      ],
      "text/plain": [
       "<IPython.core.display.Markdown object>"
      ]
     },
     "metadata": {},
     "output_type": "display_data"
    }
   ],
   "source": [
    "# Mirror Project Readdme\n",
    "from IPython.display import display, Markdown\n",
    "with open('README.md', 'r') as f:\n",
    "    content = f.read()\n",
    "display(Markdown(content))"
   ]
  },
  {
   "cell_type": "markdown",
   "metadata": {},
   "source": [
    "### Single Node Example\n",
    "\n",
    "Show that protocol works when doing ring pass on a single computer\n"
   ]
  },
  {
   "cell_type": "code",
   "execution_count": 2,
   "metadata": {
    "collapsed": true
   },
   "outputs": [],
   "source": [
    "import iaudit"
   ]
  },
  {
   "cell_type": "code",
   "execution_count": 3,
   "metadata": {
    "collapsed": true
   },
   "outputs": [],
   "source": [
    "# Dummy data\n",
    "'''\n",
    " A cutset is a list of vulernabilities that would break the application on a given node.\n",
    " A node can have multiple cutsets.\n",
    " Each cutset has a weight, indicating its significance. Higher score = more significance.\n",
    " In these cells, we setup\n",
    "'''\n",
    "\n",
    "strings = {}\n",
    "\n",
    "strings['A'] = \\\n",
    "\"\"\"\n",
    "<cutsets>\n",
    "    <cutset items=\"DNS1\" weight=\"10\"/>\n",
    "    <cutset items=\"Agg1, Agg2\" weight=\"6\"/>\n",
    "</cutsets>\n",
    "\"\"\"\n",
    "\n",
    "strings['B'] = \\\n",
    "\"\"\"\n",
    "<cutsets>\n",
    "    <cutset items=\"DNS1\" weight=\"10\"/>\n",
    "    <cutset items=\"Agg3\" weight=\"6\"/>\n",
    "    <cutset items=\"DNS2\" weight=\"4\"/>\n",
    "</cutsets>\n",
    "\"\"\""
   ]
  },
  {
   "cell_type": "code",
   "execution_count": 4,
   "metadata": {
    "collapsed": false
   },
   "outputs": [],
   "source": [
    "# Unweighted Example\n",
    "cutsetsA = iaudit.string_to_cutsets(strings['A'])\n",
    "cutsetsB = iaudit.string_to_cutsets(strings['B'])"
   ]
  },
  {
   "cell_type": "code",
   "execution_count": 5,
   "metadata": {
    "collapsed": false
   },
   "outputs": [],
   "source": [
    "# Because of the weights, we won't have true set interesection.\n",
    "# for c in cutsets.cutsets:\n",
    "#     print c"
   ]
  },
  {
   "cell_type": "code",
   "execution_count": 6,
   "metadata": {
    "collapsed": false
   },
   "outputs": [],
   "source": [
    "# cutsets[0]"
   ]
  },
  {
   "cell_type": "markdown",
   "metadata": {},
   "source": [
    "## Adding Encryption\n"
   ]
  },
  {
   "cell_type": "markdown",
   "metadata": {},
   "source": [
    "First, we try out an RSA based method, like the Sefasi tool.\n"
   ]
  },
  {
   "cell_type": "code",
   "execution_count": 297,
   "metadata": {
    "collapsed": false
   },
   "outputs": [
    {
     "name": "stdout",
     "output_type": "stream",
     "text": [
      "2.6.1\n"
     ]
    }
   ],
   "source": [
    "import Crypto\n",
    "from Crypto.PublicKey import RSA\n",
    "from Crypto.PublicKey import pubkey\n",
    "print Crypto.__version__"
   ]
  },
  {
   "cell_type": "code",
   "execution_count": 298,
   "metadata": {
    "collapsed": true
   },
   "outputs": [],
   "source": [
    "# For demo, these variables are hard coded into notebook. In practice, will live as config files on each node.\n",
    "# Same across all nodes\n",
    "# Use sample numbers from http://www.di-mgt.com.au/rsa_alg.html\n",
    "pub_config = {}\n",
    "pub_config['encryption'] = {\n",
    "    'p': 47,\n",
    "    'q': 13\n",
    "}\n",
    "\n",
    "# Private Configuration\n",
    "pvt_config = {}\n",
    "pvt_config['encryption'] = {\n",
    "    'e': 5\n",
    "}"
   ]
  },
  {
   "cell_type": "code",
   "execution_count": 299,
   "metadata": {
    "collapsed": false
   },
   "outputs": [],
   "source": [
    "'''\n",
    "RSA Directions:\n",
    "The modulus **n** must be the product of two primes.\n",
    "The public exponent **e** must be odd and larger than 1.\n",
    "\n",
    "In case of a private key, the following equations must apply:\n",
    "\n",
    "- e != 1\n",
    "- p*q = n\n",
    "- e*d = 1 mod (p-1)(q-1)\n",
    "- p*u = 1 mod q\n",
    "\n",
    "# order of arguments for RSA.Construct\n",
    "1. RSA modulus (n).\n",
    "2. Public exponent (e).\n",
    "3. Private exponent (d). Only required if the key is private.\n",
    "4. First factor of n (p). Optional.\n",
    "5. Second factor of n (q). Optional.\n",
    "6. CRT coefficient, (1/p) mod q (u). Optional.\n",
    "'''\n",
    "\n",
    "def make_private_key(public_config, private_config):\n",
    "    '''\n",
    "    Args:\n",
    "        public_config (dict): Contains public modulus p, q\n",
    "        private_config (dict): Contains private exponent e\n",
    "    Returns:\n",
    "        An RSA key object (`_RSAobj`).\n",
    "    \n",
    "    '''\n",
    "    # public key contains public modulus\n",
    "    # in production, use a local public key file\n",
    "    p = long(public_config['encryption']['p'])\n",
    "    q = long(public_config['encryption']['q'])\n",
    "    # private key contains private exponent\n",
    "    e = long(private_config['encryption']['e'])\n",
    "\n",
    "    # Enforce constraint that p must be bigger.\n",
    "    # http://crypto.stackexchange.com/questions/18084/in-rsa-why-does-p-have-to-be-bigger-than-q-where-n-p-times-q\n",
    "    if p < q:\n",
    "        p, q = q, p\n",
    "        \n",
    "    # in practice, not needed \n",
    "    n = p*q\n",
    "    phi = (p - 1)*(q - 1)\n",
    "    d = pubkey.inverse(e, phi)\n",
    "    rsaInit = (n, e, d, p, q)\n",
    "    #     rsaInit = (n, e, d)\n",
    "    #     print \"n {}, e {}, d {}, p {}, q {}\".format(n, e, d, p, q)\n",
    "    return RSA.construct(rsaInit)"
   ]
  },
  {
   "cell_type": "markdown",
   "metadata": {},
   "source": [
    "- e*d = 1 mod (p-1)(q-1)\n",
    "- p*u = 1 mod q\n"
   ]
  },
  {
   "cell_type": "code",
   "execution_count": 300,
   "metadata": {
    "collapsed": false
   },
   "outputs": [],
   "source": [
    "# Setup the crypto \n",
    "pvtKey = make_private_key(pub_config, pvt_config)\n",
    "pubKey = pvtKey.publickey()"
   ]
  },
  {
   "cell_type": "code",
   "execution_count": 301,
   "metadata": {
    "collapsed": false
   },
   "outputs": [
    {
     "name": "stdout",
     "output_type": "stream",
     "text": [
      "z\n"
     ]
    }
   ],
   "source": [
    "# With our weak example, we must use a short message \n",
    "# See: http://0x90909090.blogspot.com/2015/10/playing-with-rsa-and-python.html\n",
    "# We must assert that the length of our key is \n",
    "message = \"z\"\n",
    "print message"
   ]
  },
  {
   "cell_type": "code",
   "execution_count": 302,
   "metadata": {
    "collapsed": false
   },
   "outputs": [
    {
     "name": "stdout",
     "output_type": "stream",
     "text": [
      "('`',)\n"
     ]
    }
   ],
   "source": [
    "encrypted = pubKey.encrypt(message, None) # second parameter is ignored for some reason\n",
    "print encrypted"
   ]
  },
  {
   "cell_type": "code",
   "execution_count": 303,
   "metadata": {
    "collapsed": false
   },
   "outputs": [
    {
     "data": {
      "text/plain": [
       "'z'"
      ]
     },
     "execution_count": 303,
     "metadata": {},
     "output_type": "execute_result"
    }
   ],
   "source": [
    "pvtKey.decrypt(encrypted)"
   ]
  },
  {
   "cell_type": "code",
   "execution_count": null,
   "metadata": {
    "collapsed": true
   },
   "outputs": [],
   "source": []
  },
  {
   "cell_type": "markdown",
   "metadata": {},
   "source": [
    "If our data is purely numeric (e.g. with Sefasi they just had IP addresses which have fixed size, this is good enough. However, our list of dependencies may contain strings of arbitrary length. Thus, we want to try a different encryption scheme that can overcome these limits.\n",
    "\n",
    "\n",
    "SRA calculator [here](https://asecuritysite.com/encryption/comm2)"
   ]
  },
  {
   "cell_type": "markdown",
   "metadata": {},
   "source": [
    "Why RSA has message length restriction [here](http://stackoverflow.com/questions/10061626/message-length-restriction-in-rsa)\n",
    "\n"
   ]
  },
  {
   "cell_type": "markdown",
   "metadata": {},
   "source": [
    "Would it still be sensible to get this working with SRA protocol, knowing that we limit all cutset lengths to be less than a bounded number of characters?\n"
   ]
  },
  {
   "cell_type": "markdown",
   "metadata": {},
   "source": [
    "What about \"Fast Private Set Intersection Cardinality\" with the help of Bloom Filters?\n",
    "\n",
    "http://www.ics.uci.edu/~gts/paps/psi-ca.pdf"
   ]
  },
  {
   "cell_type": "markdown",
   "metadata": {},
   "source": [
    "### Use AES to overcome item length limits\n",
    "\n"
   ]
  },
  {
   "cell_type": "code",
   "execution_count": 7,
   "metadata": {
    "collapsed": true
   },
   "outputs": [],
   "source": [
    "import base64\n",
    "from Crypto.Cipher import AES\n",
    "from Crypto import Random\n",
    "import os\n",
    "\n",
    "import os\n",
    "import hashlib\n"
   ]
  },
  {
   "cell_type": "code",
   "execution_count": 9,
   "metadata": {
    "collapsed": false
   },
   "outputs": [],
   "source": [
    "# for i in range(10):\n",
    "#     print crypto.decrypt(encrypted)"
   ]
  },
  {
   "cell_type": "code",
   "execution_count": 315,
   "metadata": {
    "collapsed": false
   },
   "outputs": [],
   "source": [
    "# x1 = Cipher(\"key2\")\n",
    "# x2 = Cipher(\"key1\")"
   ]
  },
  {
   "cell_type": "code",
   "execution_count": 316,
   "metadata": {
    "collapsed": true
   },
   "outputs": [],
   "source": [
    "# a1 = x2.encrypt(x1.encrypt(\"4a\"))\n",
    "# # need to reset counter states \n",
    "# a2 = x1.encrypt(x2.encrypt(\"4a\"))"
   ]
  },
  {
   "cell_type": "code",
   "execution_count": 317,
   "metadata": {
    "collapsed": false
   },
   "outputs": [
    {
     "data": {
      "text/plain": [
       "'4a'"
      ]
     },
     "execution_count": 317,
     "metadata": {},
     "output_type": "execute_result"
    }
   ],
   "source": [
    "x1.decrypt(x2.decrypt(a1))"
   ]
  },
  {
   "cell_type": "code",
   "execution_count": 241,
   "metadata": {
    "collapsed": false
   },
   "outputs": [
    {
     "data": {
      "text/plain": [
       "'\\x87\\xee\\x12,\\xfdq\\x0f\\x04N\\xd29\\xc3^p\\xd8p\\xf6\\x00'"
      ]
     },
     "execution_count": 241,
     "metadata": {},
     "output_type": "execute_result"
    }
   ],
   "source": [
    "x2.decrypt(a1)\n"
   ]
  },
  {
   "cell_type": "code",
   "execution_count": 240,
   "metadata": {
    "collapsed": false
   },
   "outputs": [
    {
     "data": {
      "text/plain": [
       "'@1X\\xe0\\xdaw\\x95\\xf7\\x87g\\xad\\xce\\xe09\\xc4;\\xf3b'"
      ]
     },
     "execution_count": 240,
     "metadata": {},
     "output_type": "execute_result"
    }
   ],
   "source": [
    "x1.decrypt(a1)"
   ]
  },
  {
   "cell_type": "code",
   "execution_count": 231,
   "metadata": {
    "collapsed": false
   },
   "outputs": [
    {
     "data": {
      "text/plain": [
       "'qb\\x0c&n\\xf0\\xde\\xf3\\xb2W<\\xcal\\xb4f\\x93\\xd5\\n'"
      ]
     },
     "execution_count": 231,
     "metadata": {},
     "output_type": "execute_result"
    }
   ],
   "source": [
    "x1.decrypt(a2)"
   ]
  },
  {
   "cell_type": "code",
   "execution_count": 33,
   "metadata": {
    "collapsed": false
   },
   "outputs": [],
   "source": [
    "import Crypto.Cipher.AES\n",
    "import Crypto.Util.Counter\n",
    "\n",
    "key1 = \"01234ABCDEF56789\" # test key\n",
    "key2 = \"123343cswEABCDEF\"\n",
    "\n",
    "# replace this with a RANDOMLY GENERATED VALUE, and send this with the ciphertext!\n",
    "# let every member participate with the same iv\n",
    "iv1 = \"2100000000000001\" \n",
    "iv2 = \"0000000000005678\" \n",
    "\n",
    "message = \"foo bar bear bake\"\n",
    "    \n",
    "ctr1 = Crypto.Util.Counter.new(128, initial_value=long(iv1.encode(\"hex\"), 16))\n",
    "ctr2 = Crypto.Util.Counter.new(128, initial_value=long(iv1.encode(\"hex\"), 16))\n",
    "\n",
    "cipher1 = Crypto.Cipher.AES.new(key1, Crypto.Cipher.AES.MODE_CTR, counter=ctr1)\n",
    "cipher2 = Crypto.Cipher.AES.new(key2, Crypto.Cipher.AES.MODE_CTR, counter=ctr2)\n"
   ]
  },
  {
   "cell_type": "code",
   "execution_count": 34,
   "metadata": {
    "collapsed": true
   },
   "outputs": [],
   "source": [
    "def cipher(key, iv, message):\n",
    "    ctr = Crypto.Util.Counter.new(128, initial_value=long(iv.encode(\"hex\"), 16)) # can we reuse this?\n",
    "    _cipher = Crypto.Cipher.AES.new(key, Crypto.Cipher.AES.MODE_CTR, counter=ctr)\n",
    "    return _cipher.encrypt(message)\n"
   ]
  },
  {
   "cell_type": "code",
   "execution_count": 16,
   "metadata": {
    "collapsed": false
   },
   "outputs": [],
   "source": [
    "a1 = cipher2.encrypt(cipher1.encrypt(message))"
   ]
  },
  {
   "cell_type": "code",
   "execution_count": 43,
   "metadata": {
    "collapsed": false
   },
   "outputs": [
    {
     "data": {
      "text/plain": [
       "'\\xe6\\xec\\xd9;'"
      ]
     },
     "execution_count": 43,
     "metadata": {},
     "output_type": "execute_result"
    }
   ],
   "source": [
    "cipher(key2, iv2, \"cake\")"
   ]
  },
  {
   "cell_type": "code",
   "execution_count": 38,
   "metadata": {
    "collapsed": false
   },
   "outputs": [
    {
     "data": {
      "text/plain": [
       "'\\xab\\xc2\\xd7\\xfd'"
      ]
     },
     "execution_count": 38,
     "metadata": {},
     "output_type": "execute_result"
    }
   ],
   "source": [
    "cipher(key1, iv1, \"cake\")"
   ]
  },
  {
   "cell_type": "code",
   "execution_count": 30,
   "metadata": {
    "collapsed": true
   },
   "outputs": [],
   "source": [
    "# at the very end, need to provide all sides with counter reset to the same initial values.\n",
    "# ctr1 = Crypto.Util.Counter.new(128, initial_value=long(iv.encode(\"hex\"), 16))\n",
    "# ctr2 = Crypto.Util.Counter.new(128, initial_value=long(iv.encode(\"hex\"), 16))\n",
    "# cipher1 = Crypto.Cipher.AES.new(key1, Crypto.Cipher.AES.MODE_CTR, counter=ctr1)\n",
    "# cipher2 = Crypto.Cipher.AES.new(key2, Crypto.Cipher.AES.MODE_CTR, counter=ctr2)\n",
    "\n",
    "a2 = cipher1.encrypt(cipher2.encrypt(message))\n"
   ]
  },
  {
   "cell_type": "code",
   "execution_count": 31,
   "metadata": {
    "collapsed": false
   },
   "outputs": [
    {
     "data": {
      "text/plain": [
       "'w\\x14F\\xa9\\xf5\\xaa\"_\\x9a+\\x10e\\x87\\x01'"
      ]
     },
     "execution_count": 31,
     "metadata": {},
     "output_type": "execute_result"
    }
   ],
   "source": [
    "a1"
   ]
  },
  {
   "cell_type": "code",
   "execution_count": 32,
   "metadata": {
    "collapsed": false
   },
   "outputs": [
    {
     "data": {
      "text/plain": [
       "'\\x13T\\x88>dn\\xb3\\xd6\\x0c\\xf8\\x98]!\\xcc\\x0ed\\xf1'"
      ]
     },
     "execution_count": 32,
     "metadata": {},
     "output_type": "execute_result"
    }
   ],
   "source": [
    "a2"
   ]
  },
  {
   "cell_type": "code",
   "execution_count": 359,
   "metadata": {
    "collapsed": false
   },
   "outputs": [
    {
     "data": {
      "text/plain": [
       "'\\xa7\\xaa%d\\\\q~\\x19\\x8bz\\x19p<\\x0c'"
      ]
     },
     "execution_count": 359,
     "metadata": {},
     "output_type": "execute_result"
    }
   ],
   "source": [
    "cipher2.decrypt(a1)"
   ]
  },
  {
   "cell_type": "markdown",
   "metadata": {},
   "source": [
    "Readings: Implementing the Mental Poker Scheme with SRA\n",
    "\n",
    "\n",
    "- https://en.wikipedia.org/wiki/Mental_poker\n",
    "- http://people.csail.mit.edu/rivest/ShamirRivestAdleman-MentalPoker.pdf\n",
    "- https://link.springer.com/chapter/10.1007%2F3-540-39799-X_10"
   ]
  },
  {
   "cell_type": "markdown",
   "metadata": {},
   "source": [
    "General Crypto\n",
    "- https://9d0df72831e4b345bb93-4b37fd03e6af34f2323bb971f72f0c0d.ssl.cf5.rackcdn.com/Crypto101.pdf\n",
    "- Python has Pycrypto (unmaintained), as well as Pycrytodome. See cryptography.io\n",
    "- https://security.stackexchange.com/questions/33434/rsa-maximum-bytes-to-encrypt-comparison-to-aes-in-terms-of-security\n",
    "- [Basic Python RSA Example](http://stackoverflow.com/questions/30056762/rsa-encryption-and-decryption-in-python)\n",
    "- [Pycryptodome](https://pycryptodome.readthedocs.io/en/latest/src/examples.html#encrypt-data-with-aes)\n",
    "\n",
    "\n",
    "Commutative Crypto\n",
    "- http://crypto.stackexchange.com/questions/11083/can-we-decrypt-in-this-order-when-the-message-is-encrypted-twice/11084#11084\n",
    "- http://crypto.stackexchange.com/questions/41328/is-there-an-encryption-method-where-the-order-of-decryption-is-irrelevant-to-the"
   ]
  },
  {
   "cell_type": "markdown",
   "metadata": {},
   "source": [
    "Why we can't reuse the [counter](https://www.dlitz.net/software/pycrypto/api/current/Crypto.Util.Counter-module.html)\n",
    "\n",
    "- https://security.stackexchange.com/questions/63188/whats-the-point-of-the-nonce-in-ctr-mode\n",
    "\n",
    "- https://security.stackexchange.com/questions/27776/block-chaining-modes-to-avoid\n",
    "- http://crypto.stackexchange.com/questions/2377/deterministic-nonces-in-ctr-mode\n",
    "- http://crypto.stackexchange.com/questions/11361/how-good-is-using-aes-ctr-mode-with-initial-counter-as-0\n",
    "- http://crypto.stackexchange.com/questions/23993/ivs-for-different-aes-encryption-modes\n",
    "\n",
    "Python AES CTR Examples\n",
    "\n",
    "- http://stackoverflow.com/questions/14714968/pycrypto-aes-ctr-implementation?rq=1\n",
    "- http://stackoverflow.com/questions/11656045/pycrypto-incrementing-ctr-mode\n",
    "- http://stackoverflow.com/questions/21440506/aes-ctr-implementation\n",
    "- http://stackoverflow.com/questions/3154998/pycrypto-problem-using-aesctr\n",
    "- http://stackoverflow.com/questions/12691168/how-aes-in-ctr-works-for-python-with-pycrypto?answertab=oldest#tab-top"
   ]
  },
  {
   "cell_type": "markdown",
   "metadata": {},
   "source": [
    "Links\n",
    "\n",
    "- Commutative? https://www.experts-exchange.com/questions/22807749/Commutative-encryption-for-secret-key-exchange.html\n",
    "- About crypto and poker: https://www.cs.purdue.edu/homes/ninghui/courses/Fall05/lectures/355_Fall05_lect25.pdf\n",
    "- can bloom filters help to make this faster [paper](http://www.utdallas.edu/~muratk/publications/pakdd09.pdf)\n",
    "\n",
    "Is this work similar to zero-knowledge proof projects?\n",
    "- http://crypto.stackexchange.com/questions/1363/software-implementation-of-a-commutative-cipher\n",
    "- http://zk-ssh.cms.ac/\n",
    "- [Privacy-preserving set intersection protocol](http://fnp.sourceforge.net/)\n"
   ]
  },
  {
   "cell_type": "markdown",
   "metadata": {},
   "source": [
    "### Multi Node Example\n",
    "\n",
    "Extending program to work when managing communication between multiple computers\n"
   ]
  },
  {
   "cell_type": "code",
   "execution_count": 345,
   "metadata": {
    "collapsed": false
   },
   "outputs": [
    {
     "data": {
      "text/plain": [
       "'BlueTurtle'"
      ]
     },
     "execution_count": 345,
     "metadata": {},
     "output_type": "execute_result"
    }
   ],
   "source": [
    "# Use hostname as the salt to the hashing function as a prototype\n",
    "\n",
    "from iaudit import network \n",
    "network.hostname()"
   ]
  },
  {
   "cell_type": "code",
   "execution_count": null,
   "metadata": {
    "collapsed": true
   },
   "outputs": [],
   "source": []
  }
 ],
 "metadata": {
  "anaconda-cloud": {},
  "kernelspec": {
   "display_name": "Python [default]",
   "language": "python",
   "name": "python2"
  },
  "language_info": {
   "codemirror_mode": {
    "name": "ipython",
    "version": 2
   },
   "file_extension": ".py",
   "mimetype": "text/x-python",
   "name": "python",
   "nbconvert_exporter": "python",
   "pygments_lexer": "ipython2",
   "version": "2.7.12"
  }
 },
 "nbformat": 4,
 "nbformat_minor": 1
}

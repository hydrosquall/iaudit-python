{
 "cells": [
  {
   "cell_type": "code",
   "execution_count": 1,
   "metadata": {
    "collapsed": false
   },
   "outputs": [
    {
     "data": {
      "text/markdown": [
       "# iAudit INDaaS (Independence as a Service)\n",
       "## Private, Independent Audits of Alternative Inter-Cloud Replication Deployments \n",
       "\n",
       "Customers of modern cloud services deploy replicas of their applications \n",
       "in order to improve reliability and performance. These replicas may be spread \n",
       "across multiple providers, such as Amazon AWS and Microsoft Azure.\n",
       "\n",
       "Shared vulnerabilities (both hardware and software) of providers can lead to \n",
       "cascading failures, since the benefits of redundancy are lost. Despite this risk \n",
       "to consumers, cloud providers are reluctant to share vulnerability information \n",
       "with other providers. How can we let consumers achieve sufficient redundancy \n",
       "in their application deployments, while also recognizing the business concerns\n",
       "of cloud providers?\n",
       "\n",
       "Introducing  **iAudit**. \n",
       "\n",
       "**iAudit** is a system for computing the weighted shared dependency score\n",
       "between multiple cloud providers, which does not require any of the providers\n",
       "to disclose their vulnerabilities to the customer or competing providers. Lower\n",
       "score indicates higher independence. Higher independence scores indicate deployment schemes with higher  application reliability.\n",
       "\n",
       "There are two components to the system. This repository contains Python\n",
       "code for the second, with influence from the [Java](https://github.com/ennanzhai/auditor) implementation.\n",
       "\n",
       "1. Generation of provider dependency graphs\n",
       "2. Compute dependency scores using a Weighted Private Set Intersection Cardinality Protocol (Vaidya and Clifton)\n",
       "\n",
       "Part of a senior project at Yale University.\n",
       "\n",
       "### iAudit Team\n",
       "- Project Lead: [Ennan Zhai, PhD](http://www.cs.yale.edu/homes/zhai-ennan/)\n",
       "- Advisor: [Profesor Avi Silberschatz](http://codex.cs.yale.edu/avi/)\n",
       "- Students: William Dower, [Cameron Yick](www.cameronyick.us)\n"
      ],
      "text/plain": [
       "<IPython.core.display.Markdown object>"
      ]
     },
     "metadata": {},
     "output_type": "display_data"
    }
   ],
   "source": [
    "# Mirror Project Readdme\n",
    "from IPython.display import display, Markdown\n",
    "with open('README.md', 'r') as f:\n",
    "    content = f.read()\n",
    "display(Markdown(content))"
   ]
  },
  {
   "cell_type": "markdown",
   "metadata": {},
   "source": [
    "### Single Node Example\n",
    "\n",
    "Show that protocol works when doing ring pass on a single computer\n"
   ]
  },
  {
   "cell_type": "code",
   "execution_count": 2,
   "metadata": {
    "collapsed": true
   },
   "outputs": [],
   "source": [
    "import iaudit"
   ]
  },
  {
   "cell_type": "code",
   "execution_count": 3,
   "metadata": {
    "collapsed": true
   },
   "outputs": [],
   "source": [
    "# Dummy data\n",
    "'''\n",
    " A cutset is a list of vulernabilities that would break the application on a given node.\n",
    " A node can have multiple cutsets.\n",
    " Each cutset has a weight, indicating its significance. Higher score = more significance.\n",
    " In these cells, we setup\n",
    "'''\n",
    "\n",
    "strings = {}\n",
    "\n",
    "strings['A'] = \\\n",
    "\"\"\"\n",
    "<cutsets>\n",
    "    <cutset items=\"DNS1\" weight=\"10\"/>\n",
    "    <cutset items=\"Agg1, Agg2\" weight=\"6\"/>\n",
    "</cutsets>\n",
    "\"\"\"\n",
    "\n",
    "strings['B'] = \\\n",
    "\"\"\"\n",
    "<cutsets>\n",
    "    <cutset items=\"DNS1\" weight=\"10\"/>\n",
    "    <cutset items=\"Agg3\" weight=\"6\"/>\n",
    "    <cutset items=\"DNS2\" weight=\"4\"/>\n",
    "</cutsets>\n",
    "\"\"\""
   ]
  },
  {
   "cell_type": "code",
   "execution_count": 4,
   "metadata": {
    "collapsed": false
   },
   "outputs": [],
   "source": [
    "# Unweighted Example\n",
    "cutsetsA = iaudit.string_to_cutsets(strings['A'])\n",
    "cutsetsB = iaudit.string_to_cutsets(strings['B'])"
   ]
  },
  {
   "cell_type": "code",
   "execution_count": 5,
   "metadata": {
    "collapsed": false
   },
   "outputs": [],
   "source": [
    "cutsets = [list(cutsetlist.cutsets) for cutsetlist in [cutsetsA, cutsetsB]]"
   ]
  },
  {
   "cell_type": "code",
   "execution_count": 6,
   "metadata": {
    "collapsed": false
   },
   "outputs": [],
   "source": [
    "# Because of the weights, we won't have true set interesection.\n",
    "# for c in cutsets.cutsets:\n",
    "#     print c"
   ]
  },
  {
   "cell_type": "code",
   "execution_count": 7,
   "metadata": {
    "collapsed": false
   },
   "outputs": [],
   "source": [
    "# cutsets[0]"
   ]
  },
  {
   "cell_type": "markdown",
   "metadata": {},
   "source": [
    "## Adding Encryption\n"
   ]
  },
  {
   "cell_type": "markdown",
   "metadata": {},
   "source": [
    "First, we try out an RSA based method, like the Sefasi tool.\n"
   ]
  },
  {
   "cell_type": "code",
   "execution_count": 9,
   "metadata": {
    "collapsed": false
   },
   "outputs": [],
   "source": []
  },
  {
   "cell_type": "code",
   "execution_count": 10,
   "metadata": {
    "collapsed": false
   },
   "outputs": [],
   "source": [
    "# For demo, these variables are hard coded into notebook. In practice, will live as config files on each node.\n",
    "# Same across all nodes\n",
    "# Use sample numbers from http://www.di-mgt.com.au/rsa_alg.html\n",
    "pub_config = {}\n",
    "# # pub_config['encryption'] = {\n",
    "# #     'p': 47,\n",
    "# #     'q': 13\n",
    "# # }\n",
    "pub_config['encryption'] = {\n",
    "    'p': 240392533562968913097477233624108603431,\n",
    "    'q': 320671053885185848480799823061733369081\n",
    "}\n",
    "\n",
    "# Private Configuration\n",
    "pvt_config = {}\n",
    "pvt_config['encryption'] = {\n",
    "    'e': 60664108018938273705006436868609408115043521529170409238549489718805733807407\n",
    "}\n"
   ]
  },
  {
   "cell_type": "markdown",
   "metadata": {},
   "source": [
    "Let's differentiate master from worker code.\n",
    "\n",
    "### Master\n",
    "1. Generate p, q given modlen\n",
    "2. Send p, q to all workers\n",
    "\n",
    "### Worker\n",
    "1. Opens read config file and reads p, q, keyLen\n",
    "2. Each worker computes a local 'e'\n",
    "3. Worker tells master it is \"done\"\n",
    "\n",
    "\n"
   ]
  },
  {
   "cell_type": "code",
   "execution_count": 11,
   "metadata": {
    "collapsed": false
   },
   "outputs": [],
   "source": [
    "'''\n",
    "RSA Directions:\n",
    "The modulus **n** must be the product of two primes.\n",
    "The public exponent **e** must be odd and larger than 1.\n",
    "\n",
    "In case of a private key, the following equations must apply:\n",
    "\n",
    "- e != 1\n",
    "- p*q = n\n",
    "- e*d = 1 mod (p-1)(q-1)\n",
    "- p*u = 1 mod q\n",
    "\n",
    "# order of arguments for RSA.Construct\n",
    "1. RSA modulus (n).\n",
    "2. Public exponent (e).\n",
    "3. Private exponent (d). Only required if the key is private.\n",
    "4. First factor of n (p). Optional.\n",
    "5. Second factor of n (q). Optional.\n",
    "6. CRT coefficient, (1/p) mod q (u). Optional.\n",
    "'''\n",
    "\n",
    "def make_private_key(public_config, private_config):\n",
    "    '''\n",
    "    Args:\n",
    "        public_config (dict): Contains public modulus p, q\n",
    "        private_config (dict): Contains private exponent e\n",
    "    Returns:\n",
    "        An RSA key object (`_RSAobj`).\n",
    "    \n",
    "    '''\n",
    "    # public key contains public modulus\n",
    "    # in production, use a local public key file\n",
    "    p = long(public_config['encryption']['p'])\n",
    "    q = long(public_config['encryption']['q'])\n",
    "    # private key contains private exponent\n",
    "    e = long(private_config['encryption']['e'])\n",
    "\n",
    "    # Enforce constraint that p must be bigger.\n",
    "    # http://crypto.stackexchange.com/questions/18084/in-rsa-why-does-p-have-to-be-bigger-than-q-where-n-p-times-q\n",
    "    if p < q:\n",
    "        p, q = q, p\n",
    "        \n",
    "    # in practice, not needed \n",
    "    n = p*q\n",
    "    phi = (p - 1)*(q - 1)\n",
    "    d = pubkey.inverse(e, phi)\n",
    "    rsaInit = (n, e, d, p, q)\n",
    "    #     rsaInit = (n, e, d)\n",
    "    #     print \"n {}, e {}, d {}, p {}, q {}\".format(n, e, d, p, q)\n",
    "    return RSA.construct(rsaInit)"
   ]
  },
  {
   "cell_type": "markdown",
   "metadata": {},
   "source": [
    "- e*d = 1 mod (p-1)(q-1)\n",
    "- p*u = 1 mod q\n"
   ]
  },
  {
   "cell_type": "code",
   "execution_count": 12,
   "metadata": {
    "collapsed": false
   },
   "outputs": [],
   "source": [
    "# Setup the crypto \n",
    "pvtKey = make_private_key(pub_config, pvt_config)\n",
    "pubKey = pvtKey.publickey()"
   ]
  },
  {
   "cell_type": "code",
   "execution_count": 13,
   "metadata": {
    "collapsed": false
   },
   "outputs": [
    {
     "data": {
      "text/plain": [
       "168394135621993849475852668931176482145L"
      ]
     },
     "execution_count": 13,
     "metadata": {},
     "output_type": "execute_result"
    }
   ],
   "source": [
    "# With our weak example, we must use a short message \n",
    "# See: http://0x90909090.blogspot.com/2015/10/playing-with-rsa-and-python.html\n",
    "# We must assert that the length of our key is \n",
    "import mmh3\n",
    "\n",
    "message = mmh3.hash128('foo') # 128 bit signed int\n",
    "message"
   ]
  },
  {
   "cell_type": "code",
   "execution_count": 14,
   "metadata": {
    "collapsed": false
   },
   "outputs": [
    {
     "name": "stdout",
     "output_type": "stream",
     "text": [
      "(45892529642076698608147709124482775227112778692088602152411741677410112216709L,)\n"
     ]
    }
   ],
   "source": [
    "encrypted = pubKey.encrypt(message, None) # second parameter is ignored\n",
    "print encrypted"
   ]
  },
  {
   "cell_type": "code",
   "execution_count": 15,
   "metadata": {
    "collapsed": false
   },
   "outputs": [
    {
     "data": {
      "text/plain": [
       "168394135621993849475852668931176482145L"
      ]
     },
     "execution_count": 15,
     "metadata": {},
     "output_type": "execute_result"
    }
   ],
   "source": [
    "pvtKey.decrypt(encrypted)"
   ]
  },
  {
   "cell_type": "markdown",
   "metadata": {},
   "source": [
    "Let's check out a sample local workflow.\n"
   ]
  },
  {
   "cell_type": "code",
   "execution_count": 16,
   "metadata": {
    "collapsed": false
   },
   "outputs": [
    {
     "data": {
      "text/plain": [
       "[]"
      ]
     },
     "execution_count": 16,
     "metadata": {},
     "output_type": "execute_result"
    }
   ],
   "source": [
    "list(cutsetsA.cutsets)"
   ]
  },
  {
   "cell_type": "code",
   "execution_count": 17,
   "metadata": {
    "collapsed": false
   },
   "outputs": [
    {
     "name": "stdout",
     "output_type": "stream",
     "text": [
      "[]\n"
     ]
    }
   ],
   "source": [
    "# first time only! \n",
    "items = list(cutsetsA.cutsets)\n",
    "random.shuffle(items)\n",
    "\n",
    "# encrypt each time\n",
    "encrypted = [pubKey.encrypt(item, None) for item in items ]\n",
    "\n",
    "print encrypted\n"
   ]
  },
  {
   "cell_type": "markdown",
   "metadata": {},
   "source": [
    "#### Multi node Demo: Does encryption still work with multiple parties?\n",
    "\n"
   ]
  },
  {
   "cell_type": "code",
   "execution_count": 18,
   "metadata": {
    "collapsed": true
   },
   "outputs": [],
   "source": [
    "# Random configuration files\n",
    "pubConfig  = generate_public_config(1024)\n",
    "pvtConfigs = [generate_private_config(pubConfig, 256, seed) for seed in range(2)]"
   ]
  },
  {
   "cell_type": "code",
   "execution_count": 19,
   "metadata": {
    "collapsed": false
   },
   "outputs": [
    {
     "data": {
      "text/plain": [
       "[{'encryption': {'e': 111793196543967404139194827996419963236210979610743141064269745943111491389389L},\n",
       "  'keyBits': 256,\n",
       "  'type': 'private'},\n",
       " {'encryption': {'e': 24311105965938388548830698200525867024144360738597094831162501213063826691451L},\n",
       "  'keyBits': 256,\n",
       "  'type': 'private'}]"
      ]
     },
     "execution_count": 19,
     "metadata": {},
     "output_type": "execute_result"
    }
   ],
   "source": [
    "pvtConfigs"
   ]
  },
  {
   "cell_type": "code",
   "execution_count": 20,
   "metadata": {
    "collapsed": false
   },
   "outputs": [],
   "source": [
    "# Random keys\n",
    "# Setup the crypto \n",
    "pvtKeys = [make_private_key(pubConfig, pvtConfig) for pvtConfig in pvtConfigs] # actually aren't needed!\n",
    "pubKeys = [pvt.publickey() for pvt in pvtKeys]"
   ]
  },
  {
   "cell_type": "code",
   "execution_count": 21,
   "metadata": {
    "collapsed": true
   },
   "outputs": [],
   "source": [
    "# all messsages\n",
    "encryptedA = cutsets[0]\n",
    "encryptedB = cutsets[1]"
   ]
  },
  {
   "cell_type": "code",
   "execution_count": 22,
   "metadata": {
    "collapsed": false
   },
   "outputs": [],
   "source": [
    "# now, make the encrypted sets\n",
    "for key in pubKeys:\n",
    "    encryptedA = [key.encrypt(message, None)[0] for message in encryptedA]\n",
    "    encryptedB = [key.encrypt(message, None)[0] for message in encryptedB]\n",
    "    \n",
    "    # Shuffle in between passes\n",
    "    random.shuffle(encryptedA)\n",
    "    random.shuffle(encryptedB)"
   ]
  },
  {
   "cell_type": "code",
   "execution_count": 23,
   "metadata": {
    "collapsed": false
   },
   "outputs": [
    {
     "name": "stdout",
     "output_type": "stream",
     "text": [
      "10\n",
      "36\n"
     ]
    }
   ],
   "source": [
    "# test weighted cardinality -> correct!\n",
    "print len(set(encryptedA) & set(encryptedB))\n",
    "print len(encryptedA) + len(encryptedB)"
   ]
  },
  {
   "cell_type": "markdown",
   "metadata": {},
   "source": [
    "If our data is purely numeric (e.g. with Sefasi they just had IP addresses which have fixed size, this is good enough. However, our list of dependencies may contain strings of arbitrary length. Thus, we want to try a different encryption scheme that can overcome these limits.\n",
    "\n",
    "\n",
    "SRA calculator [here](https://asecuritysite.com/encryption/comm2)"
   ]
  },
  {
   "cell_type": "markdown",
   "metadata": {},
   "source": [
    "Why RSA has message length restriction [here](http://stackoverflow.com/questions/10061626/message-length-restriction-in-rsa)\n",
    "\n"
   ]
  },
  {
   "cell_type": "markdown",
   "metadata": {},
   "source": [
    "Would it still be sensible to get this working with SRA protocol, knowing that we limit all cutset lengths to be less than a bounded number of characters?\n"
   ]
  },
  {
   "cell_type": "markdown",
   "metadata": {},
   "source": [
    "What about \"Fast Private Set Intersection Cardinality\" with the help of Bloom Filters?\n",
    "\n",
    "http://www.ics.uci.edu/~gts/paps/psi-ca.pdf"
   ]
  },
  {
   "cell_type": "markdown",
   "metadata": {},
   "source": [
    "### Use AES to overcome item length limits\n",
    "\n"
   ]
  },
  {
   "cell_type": "code",
   "execution_count": 24,
   "metadata": {
    "collapsed": true
   },
   "outputs": [],
   "source": [
    "# import base64\n",
    "# from Crypto.Cipher import AES\n",
    "# from Crypto import Random\n",
    "# import os\n",
    "\n",
    "# import os\n",
    "# import hashlib\n"
   ]
  },
  {
   "cell_type": "code",
   "execution_count": 25,
   "metadata": {
    "collapsed": false
   },
   "outputs": [],
   "source": [
    "# for i in range(10):\n",
    "#     print crypto.decrypt(encrypted)"
   ]
  },
  {
   "cell_type": "code",
   "execution_count": 26,
   "metadata": {
    "collapsed": false
   },
   "outputs": [],
   "source": [
    "# x1 = Cipher(\"key2\")\n",
    "# x2 = Cipher(\"key1\")"
   ]
  },
  {
   "cell_type": "code",
   "execution_count": 27,
   "metadata": {
    "collapsed": true
   },
   "outputs": [],
   "source": [
    "# a1 = x2.encrypt(x1.encrypt(\"4a\"))\n",
    "# # need to reset counter states \n",
    "# a2 = x1.encrypt(x2.encrypt(\"4a\"))"
   ]
  },
  {
   "cell_type": "code",
   "execution_count": 28,
   "metadata": {
    "collapsed": false
   },
   "outputs": [
    {
     "ename": "NameError",
     "evalue": "name 'x1' is not defined",
     "output_type": "error",
     "traceback": [
      "\u001b[0;31m---------------------------------------------------\u001b[0m",
      "\u001b[0;31mNameError\u001b[0m         Traceback (most recent call last)",
      "\u001b[0;32m<ipython-input-28-965e02b52c16>\u001b[0m in \u001b[0;36m<module>\u001b[0;34m()\u001b[0m\n\u001b[0;32m----> 1\u001b[0;31m \u001b[0mx1\u001b[0m\u001b[1;33m.\u001b[0m\u001b[0mdecrypt\u001b[0m\u001b[1;33m(\u001b[0m\u001b[0mx2\u001b[0m\u001b[1;33m.\u001b[0m\u001b[0mdecrypt\u001b[0m\u001b[1;33m(\u001b[0m\u001b[0ma1\u001b[0m\u001b[1;33m)\u001b[0m\u001b[1;33m)\u001b[0m\u001b[1;33m\u001b[0m\u001b[0m\n\u001b[0m",
      "\u001b[0;31mNameError\u001b[0m: name 'x1' is not defined"
     ]
    }
   ],
   "source": [
    "# x1.decrypt(x2.decrypt(a1))"
   ]
  },
  {
   "cell_type": "code",
   "execution_count": null,
   "metadata": {
    "collapsed": false
   },
   "outputs": [],
   "source": [
    "# x2.decrypt(a1)\n"
   ]
  },
  {
   "cell_type": "code",
   "execution_count": null,
   "metadata": {
    "collapsed": false
   },
   "outputs": [],
   "source": [
    "# x1.decrypt(a1)"
   ]
  },
  {
   "cell_type": "code",
   "execution_count": null,
   "metadata": {
    "collapsed": false
   },
   "outputs": [],
   "source": [
    "# x1.decrypt(a2)"
   ]
  },
  {
   "cell_type": "code",
   "execution_count": null,
   "metadata": {
    "collapsed": false
   },
   "outputs": [],
   "source": [
    "# import Crypto.Cipher.AES\n",
    "# import Crypto.Util.Counter\n",
    "\n",
    "# key1 = \"01234ABCDEF56789\" # test key\n",
    "# key2 = \"123343cswEABCDEF\"\n",
    "\n",
    "# # replace this with a RANDOMLY GENERATED VALUE, and send this with the ciphertext!\n",
    "# # let every member participate with the same iv\n",
    "# iv1 = \"2100000000000001\" \n",
    "# iv2 = \"0000000000005678\" \n",
    "\n",
    "# message = \"foo bar bear bake\"\n",
    "    \n",
    "# ctr1 = Crypto.Util.Counter.new(128, initial_value=long(iv1.encode(\"hex\"), 16))\n",
    "# ctr2 = Crypto.Util.Counter.new(128, initial_value=long(iv1.encode(\"hex\"), 16))\n",
    "\n",
    "# cipher1 = Crypto.Cipher.AES.new(key1, Crypto.Cipher.AES.MODE_CTR, counter=ctr1)\n",
    "# cipher2 = Crypto.Cipher.AES.new(key2, Crypto.Cipher.AES.MODE_CTR, counter=ctr2)\n"
   ]
  },
  {
   "cell_type": "code",
   "execution_count": null,
   "metadata": {
    "collapsed": true
   },
   "outputs": [],
   "source": [
    "# def cipher(key, iv, message):\n",
    "#     ctr = Crypto.Util.Counter.new(128, initial_value=long(iv.encode(\"hex\"), 16)) # can we reuse this?\n",
    "#     _cipher = Crypto.Cipher.AES.new(key, Crypto.Cipher.AES.MODE_CTR, counter=ctr)\n",
    "#     return _cipher.encrypt(message)\n"
   ]
  },
  {
   "cell_type": "code",
   "execution_count": null,
   "metadata": {
    "collapsed": false
   },
   "outputs": [],
   "source": [
    "# a1 = cipher2.encrypt(cipher1.encrypt(message))"
   ]
  },
  {
   "cell_type": "code",
   "execution_count": null,
   "metadata": {
    "collapsed": false
   },
   "outputs": [],
   "source": [
    "# cipher(key2, iv2, \"cake\")"
   ]
  },
  {
   "cell_type": "code",
   "execution_count": null,
   "metadata": {
    "collapsed": false
   },
   "outputs": [],
   "source": [
    "# cipher(key1, iv1, \"cake\")"
   ]
  },
  {
   "cell_type": "code",
   "execution_count": null,
   "metadata": {
    "collapsed": true
   },
   "outputs": [],
   "source": [
    "# at the very end, need to provide all sides with counter reset to the same initial values.\n",
    "# ctr1 = Crypto.Util.Counter.new(128, initial_value=long(iv.encode(\"hex\"), 16))\n",
    "# ctr2 = Crypto.Util.Counter.new(128, initial_value=long(iv.encode(\"hex\"), 16))\n",
    "# cipher1 = Crypto.Cipher.AES.new(key1, Crypto.Cipher.AES.MODE_CTR, counter=ctr1)\n",
    "# cipher2 = Crypto.Cipher.AES.new(key2, Crypto.Cipher.AES.MODE_CTR, counter=ctr2)\n",
    "\n",
    "# a2 = cipher1.encrypt(cipher2.encrypt(message))\n"
   ]
  },
  {
   "cell_type": "code",
   "execution_count": null,
   "metadata": {
    "collapsed": false
   },
   "outputs": [],
   "source": [
    "# cipher2.decrypt(a1)"
   ]
  },
  {
   "cell_type": "markdown",
   "metadata": {},
   "source": [
    "Readings: Implementing the Mental Poker Scheme with SRA\n",
    "\n",
    "\n",
    "- https://en.wikipedia.org/wiki/Mental_poker\n",
    "- http://people.csail.mit.edu/rivest/ShamirRivestAdleman-MentalPoker.pdf\n",
    "- https://link.springer.com/chapter/10.1007%2F3-540-39799-X_10"
   ]
  },
  {
   "cell_type": "markdown",
   "metadata": {},
   "source": [
    "General Crypto\n",
    "- https://9d0df72831e4b345bb93-4b37fd03e6af34f2323bb971f72f0c0d.ssl.cf5.rackcdn.com/Crypto101.pdf\n",
    "- Python has Pycrypto (unmaintained), as well as Pycrytodome. See cryptography.io\n",
    "- https://security.stackexchange.com/questions/33434/rsa-maximum-bytes-to-encrypt-comparison-to-aes-in-terms-of-security\n",
    "- [Basic Python RSA Example](http://stackoverflow.com/questions/30056762/rsa-encryption-and-decryption-in-python)\n",
    "- [Pycryptodome](https://pycryptodome.readthedocs.io/en/latest/src/examples.html#encrypt-data-with-aes)\n",
    "\n",
    "\n",
    "Commutative Crypto\n",
    "- http://crypto.stackexchange.com/questions/11083/can-we-decrypt-in-this-order-when-the-message-is-encrypted-twice/11084#11084\n",
    "- http://crypto.stackexchange.com/questions/41328/is-there-an-encryption-method-where-the-order-of-decryption-is-irrelevant-to-the"
   ]
  },
  {
   "cell_type": "markdown",
   "metadata": {},
   "source": [
    "Why we can't reuse the [counter](https://www.dlitz.net/software/pycrypto/api/current/Crypto.Util.Counter-module.html)\n",
    "\n",
    "- https://security.stackexchange.com/questions/63188/whats-the-point-of-the-nonce-in-ctr-mode\n",
    "\n",
    "- https://security.stackexchange.com/questions/27776/block-chaining-modes-to-avoid\n",
    "- http://crypto.stackexchange.com/questions/2377/deterministic-nonces-in-ctr-mode\n",
    "- http://crypto.stackexchange.com/questions/11361/how-good-is-using-aes-ctr-mode-with-initial-counter-as-0\n",
    "- http://crypto.stackexchange.com/questions/23993/ivs-for-different-aes-encryption-modes\n",
    "\n",
    "Python AES CTR Examples\n",
    "\n",
    "- http://stackoverflow.com/questions/14714968/pycrypto-aes-ctr-implementation?rq=1\n",
    "- http://stackoverflow.com/questions/11656045/pycrypto-incrementing-ctr-mode\n",
    "- http://stackoverflow.com/questions/21440506/aes-ctr-implementation\n",
    "- http://stackoverflow.com/questions/3154998/pycrypto-problem-using-aesctr\n",
    "- http://stackoverflow.com/questions/12691168/how-aes-in-ctr-works-for-python-with-pycrypto?answertab=oldest#tab-top"
   ]
  },
  {
   "cell_type": "markdown",
   "metadata": {},
   "source": [
    "Links\n",
    "\n",
    "- Commutative? https://www.experts-exchange.com/questions/22807749/Commutative-encryption-for-secret-key-exchange.html\n",
    "- About crypto and poker: https://www.cs.purdue.edu/homes/ninghui/courses/Fall05/lectures/355_Fall05_lect25.pdf\n",
    "- can bloom filters help to make this faster [paper](http://www.utdallas.edu/~muratk/publications/pakdd09.pdf)\n",
    "\n",
    "Is this work similar to zero-knowledge proof projects?\n",
    "- http://crypto.stackexchange.com/questions/1363/software-implementation-of-a-commutative-cipher\n",
    "- http://zk-ssh.cms.ac/\n",
    "- [Privacy-preserving set intersection protocol](http://fnp.sourceforge.net/)\n"
   ]
  },
  {
   "cell_type": "markdown",
   "metadata": {},
   "source": [
    "### Multi Node Example\n",
    "\n",
    "Extending program to work when managing communication between multiple computers\n"
   ]
  },
  {
   "cell_type": "markdown",
   "metadata": {},
   "source": [
    "Checking if port is in use\n",
    "- http://stackoverflow.com/questions/19196105/python-how-to-check-if-a-network-port-is-open-on-linux\n",
    "Check if port is listening\n",
    "- http://serverfault.com/questions/309052/check-if-port-is-open-or-closed-on-a-linux-server\n"
   ]
  },
  {
   "cell_type": "code",
   "execution_count": null,
   "metadata": {
    "collapsed": false
   },
   "outputs": [],
   "source": [
    "# Use hostname as the salt to the hashing function as a prototype\n",
    "from iaudit import network \n",
    "network.hostname()"
   ]
  },
  {
   "cell_type": "code",
   "execution_count": 31,
   "metadata": {
    "collapsed": false
   },
   "outputs": [
    {
     "name": "stdout",
     "output_type": "stream",
     "text": [
      "C:\\Users\\cyick\\Projects\\iaudit-python\\iaudit-config.json\n"
     ]
    }
   ],
   "source": [
    "# let us create \n",
    "workingDirectory =  os.getcwdu()\n",
    "configPath = os.path.join(workingDirectory, \"iaudit-config.json\")\n",
    "print configPath"
   ]
  },
  {
   "cell_type": "code",
   "execution_count": null,
   "metadata": {
    "collapsed": true
   },
   "outputs": [],
   "source": [
    "# decide to use http because don't need to calculate message lengths in advance."
   ]
  },
  {
   "cell_type": "code",
   "execution_count": null,
   "metadata": {
    "collapsed": true
   },
   "outputs": [],
   "source": [
    "# use sockets or http?\n",
    "# http://www.binarytides.com/python-socket-programming-tutorial/\n",
    "import socket                                 \n",
    "import sys                                    \n",
    "                                              \n",
    "HOST, PORT = config['masterHost'].split(':')                    \n",
    "PORT = int(PORT) # master port  \n",
    "                                              \n",
    "s = socket.socket(socket.AF_INET, socket.SOCK_STREAM)\n",
    "print 'Socket created'                        \n",
    "                                              \n",
    "try:                                          \n",
    "    s.bind((HOST, PORT))                      \n",
    "except socket.error , msg:                    \n",
    "    print 'Bind failed. Error Code : ' + str(msg[0]) + ' Message ' + msg[1]\n",
    "    sys.exit()                                \n",
    "                                              \n",
    "print 'Socket bind complete'                  \n",
    "                                              \n",
    "s.listen(5) # how many connect requests allowed  to be queued\n",
    "\n",
    "print 'Socket now listening'                  \n",
    "           \n",
    "nReceived = 0\n",
    "\n",
    "#now keep talking with the client             \n",
    "while True:                                      \n",
    "    #wait to accept a connection - blocking call \n",
    "    conn, addr = s.accept() \n",
    "\n",
    "    nReceived  += 1                  \n",
    "    print 'Connected with ' + addr[0] + ':' +  str(addr[1])                           \n",
    "    data = conn.recv(1024)                    \n",
    "    reply = 'Received...' + data                    \n",
    "    if nReceived == numWorkers:\n",
    "        break\n",
    "    else:\n",
    "        continue\n",
    "                \n",
    "print(\"Cleaning up!\")                                       \n",
    "conn.close()                                  \n",
    "s.close()  "
   ]
  }
 ],
 "metadata": {
  "anaconda-cloud": {},
  "kernelspec": {
   "display_name": "Python [default]",
   "language": "python",
   "name": "python2"
  },
  "language_info": {
   "codemirror_mode": {
    "name": "ipython",
    "version": 2
   },
   "file_extension": ".py",
   "mimetype": "text/x-python",
   "name": "python",
   "nbconvert_exporter": "python",
   "pygments_lexer": "ipython2",
   "version": "2.7.12"
  }
 },
 "nbformat": 4,
 "nbformat_minor": 1
}
